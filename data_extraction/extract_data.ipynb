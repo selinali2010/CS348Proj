{
 "cells": [
  {
   "cell_type": "code",
   "execution_count": 8,
   "metadata": {},
   "outputs": [],
   "source": [
    "import foodmood_lists as FM\n",
    "import functools\n",
    "import pandas\n",
    "from pandas.io import sql\n",
    "import sqlalchemy\n",
    "import pymysql\n",
    "import numpy"
   ]
  },
  {
   "cell_type": "code",
   "execution_count": 41,
   "metadata": {},
   "outputs": [],
   "source": [
    "recipe_data = pandas.read_csv(\"RAW_recipes.csv\").head(50)"
   ]
  },
  {
   "cell_type": "code",
   "execution_count": 42,
   "metadata": {},
   "outputs": [],
   "source": [
    "def listify(tag_string):\n",
    "    return [tag.strip(\"'\") for tag in tag_string.strip('][').split(\", \")]"
   ]
  },
  {
   "cell_type": "code",
   "execution_count": 43,
   "metadata": {},
   "outputs": [],
   "source": [
    "tag_lists = recipe_data['tags'].apply(listify)\n",
    "unique_tags = functools.reduce(lambda a,b: set(a).union(set(b)), tag_lists.to_list())"
   ]
  },
  {
   "cell_type": "code",
   "execution_count": 44,
   "metadata": {},
   "outputs": [],
   "source": [
    "recipe_data.ingredients = recipe_data.ingredients.apply(listify)\n",
    "recipe_data.tags = recipe_data.tags.apply(listify)\n",
    "recipe_data.nutrition = recipe_data.nutrition.apply(listify)\n",
    "recipe_data.steps = recipe_data.steps.apply(listify)"
   ]
  },
  {
   "cell_type": "code",
   "execution_count": 45,
   "metadata": {},
   "outputs": [],
   "source": [
    "units = ['tsp', 'tbsp', 'oz', 'cup', 'pint', 'quart', 'gallon', 'mL', 'L', 'dL', 'lb', 'mg', 'g', 'kg']\n",
    "rand_units = [units[i%14] for i in range(2103719)]"
   ]
  },
  {
   "cell_type": "code",
   "execution_count": 46,
   "metadata": {},
   "outputs": [
    {
     "output_type": "error",
     "ename": "ValueError",
     "evalue": "Length of values does not match length of index",
     "traceback": [
      "\u001b[0;31m---------------------------------------------------------------------------\u001b[0m",
      "\u001b[0;31mValueError\u001b[0m                                Traceback (most recent call last)",
      "\u001b[0;32m<ipython-input-46-e930e102e51e>\u001b[0m in \u001b[0;36m<module>\u001b[0;34m\u001b[0m\n\u001b[1;32m      1\u001b[0m \u001b[0mingredient_table\u001b[0m \u001b[0;34m=\u001b[0m \u001b[0mrecipe_data\u001b[0m\u001b[0;34m[\u001b[0m\u001b[0;34m[\u001b[0m\u001b[0;34m'id'\u001b[0m\u001b[0;34m,\u001b[0m \u001b[0;34m'ingredients'\u001b[0m\u001b[0;34m]\u001b[0m\u001b[0;34m]\u001b[0m\u001b[0;34m.\u001b[0m\u001b[0mexplode\u001b[0m\u001b[0;34m(\u001b[0m\u001b[0;34m'ingredients'\u001b[0m\u001b[0;34m)\u001b[0m\u001b[0;34m\u001b[0m\u001b[0;34m\u001b[0m\u001b[0m\n\u001b[1;32m      2\u001b[0m \u001b[0mingredient_table\u001b[0m\u001b[0;34m[\u001b[0m\u001b[0;34m'quantity'\u001b[0m\u001b[0;34m]\u001b[0m \u001b[0;34m=\u001b[0m \u001b[0mnumpy\u001b[0m\u001b[0;34m.\u001b[0m\u001b[0mrandom\u001b[0m\u001b[0;34m.\u001b[0m\u001b[0mrandint\u001b[0m\u001b[0;34m(\u001b[0m\u001b[0;36m1\u001b[0m\u001b[0;34m,\u001b[0m\u001b[0;36m10\u001b[0m\u001b[0;34m,\u001b[0m \u001b[0mingredient_table\u001b[0m\u001b[0;34m.\u001b[0m\u001b[0mshape\u001b[0m\u001b[0;34m[\u001b[0m\u001b[0;36m0\u001b[0m\u001b[0;34m]\u001b[0m\u001b[0;34m)\u001b[0m\u001b[0;34m\u001b[0m\u001b[0;34m\u001b[0m\u001b[0m\n\u001b[0;32m----> 3\u001b[0;31m \u001b[0mingredient_table\u001b[0m\u001b[0;34m[\u001b[0m\u001b[0;34m'units'\u001b[0m\u001b[0;34m]\u001b[0m \u001b[0;34m=\u001b[0m \u001b[0mrand_units\u001b[0m\u001b[0;34m\u001b[0m\u001b[0;34m\u001b[0m\u001b[0m\n\u001b[0m\u001b[1;32m      4\u001b[0m \u001b[0mingredient_table\u001b[0m\u001b[0;34m.\u001b[0m\u001b[0mcolumns\u001b[0m \u001b[0;34m=\u001b[0m \u001b[0;34m[\u001b[0m\u001b[0;34m'recipeId'\u001b[0m\u001b[0;34m,\u001b[0m \u001b[0;34m'foodName'\u001b[0m\u001b[0;34m,\u001b[0m \u001b[0;34m'quantity'\u001b[0m\u001b[0;34m,\u001b[0m \u001b[0;34m'units'\u001b[0m\u001b[0;34m]\u001b[0m\u001b[0;34m\u001b[0m\u001b[0;34m\u001b[0m\u001b[0m\n",
      "\u001b[0;32m~/anaconda3/lib/python3.7/site-packages/pandas/core/frame.py\u001b[0m in \u001b[0;36m__setitem__\u001b[0;34m(self, key, value)\u001b[0m\n\u001b[1;32m   2936\u001b[0m         \u001b[0;32melse\u001b[0m\u001b[0;34m:\u001b[0m\u001b[0;34m\u001b[0m\u001b[0;34m\u001b[0m\u001b[0m\n\u001b[1;32m   2937\u001b[0m             \u001b[0;31m# set column\u001b[0m\u001b[0;34m\u001b[0m\u001b[0;34m\u001b[0m\u001b[0;34m\u001b[0m\u001b[0m\n\u001b[0;32m-> 2938\u001b[0;31m             \u001b[0mself\u001b[0m\u001b[0;34m.\u001b[0m\u001b[0m_set_item\u001b[0m\u001b[0;34m(\u001b[0m\u001b[0mkey\u001b[0m\u001b[0;34m,\u001b[0m \u001b[0mvalue\u001b[0m\u001b[0;34m)\u001b[0m\u001b[0;34m\u001b[0m\u001b[0;34m\u001b[0m\u001b[0m\n\u001b[0m\u001b[1;32m   2939\u001b[0m \u001b[0;34m\u001b[0m\u001b[0m\n\u001b[1;32m   2940\u001b[0m     \u001b[0;32mdef\u001b[0m \u001b[0m_setitem_slice\u001b[0m\u001b[0;34m(\u001b[0m\u001b[0mself\u001b[0m\u001b[0;34m,\u001b[0m \u001b[0mkey\u001b[0m\u001b[0;34m,\u001b[0m \u001b[0mvalue\u001b[0m\u001b[0;34m)\u001b[0m\u001b[0;34m:\u001b[0m\u001b[0;34m\u001b[0m\u001b[0;34m\u001b[0m\u001b[0m\n",
      "\u001b[0;32m~/anaconda3/lib/python3.7/site-packages/pandas/core/frame.py\u001b[0m in \u001b[0;36m_set_item\u001b[0;34m(self, key, value)\u001b[0m\n\u001b[1;32m   2998\u001b[0m \u001b[0;34m\u001b[0m\u001b[0m\n\u001b[1;32m   2999\u001b[0m         \u001b[0mself\u001b[0m\u001b[0;34m.\u001b[0m\u001b[0m_ensure_valid_index\u001b[0m\u001b[0;34m(\u001b[0m\u001b[0mvalue\u001b[0m\u001b[0;34m)\u001b[0m\u001b[0;34m\u001b[0m\u001b[0;34m\u001b[0m\u001b[0m\n\u001b[0;32m-> 3000\u001b[0;31m         \u001b[0mvalue\u001b[0m \u001b[0;34m=\u001b[0m \u001b[0mself\u001b[0m\u001b[0;34m.\u001b[0m\u001b[0m_sanitize_column\u001b[0m\u001b[0;34m(\u001b[0m\u001b[0mkey\u001b[0m\u001b[0;34m,\u001b[0m \u001b[0mvalue\u001b[0m\u001b[0;34m)\u001b[0m\u001b[0;34m\u001b[0m\u001b[0;34m\u001b[0m\u001b[0m\n\u001b[0m\u001b[1;32m   3001\u001b[0m         \u001b[0mNDFrame\u001b[0m\u001b[0;34m.\u001b[0m\u001b[0m_set_item\u001b[0m\u001b[0;34m(\u001b[0m\u001b[0mself\u001b[0m\u001b[0;34m,\u001b[0m \u001b[0mkey\u001b[0m\u001b[0;34m,\u001b[0m \u001b[0mvalue\u001b[0m\u001b[0;34m)\u001b[0m\u001b[0;34m\u001b[0m\u001b[0;34m\u001b[0m\u001b[0m\n\u001b[1;32m   3002\u001b[0m \u001b[0;34m\u001b[0m\u001b[0m\n",
      "\u001b[0;32m~/anaconda3/lib/python3.7/site-packages/pandas/core/frame.py\u001b[0m in \u001b[0;36m_sanitize_column\u001b[0;34m(self, key, value, broadcast)\u001b[0m\n\u001b[1;32m   3634\u001b[0m \u001b[0;34m\u001b[0m\u001b[0m\n\u001b[1;32m   3635\u001b[0m             \u001b[0;31m# turn me into an ndarray\u001b[0m\u001b[0;34m\u001b[0m\u001b[0;34m\u001b[0m\u001b[0;34m\u001b[0m\u001b[0m\n\u001b[0;32m-> 3636\u001b[0;31m             \u001b[0mvalue\u001b[0m \u001b[0;34m=\u001b[0m \u001b[0msanitize_index\u001b[0m\u001b[0;34m(\u001b[0m\u001b[0mvalue\u001b[0m\u001b[0;34m,\u001b[0m \u001b[0mself\u001b[0m\u001b[0;34m.\u001b[0m\u001b[0mindex\u001b[0m\u001b[0;34m,\u001b[0m \u001b[0mcopy\u001b[0m\u001b[0;34m=\u001b[0m\u001b[0;32mFalse\u001b[0m\u001b[0;34m)\u001b[0m\u001b[0;34m\u001b[0m\u001b[0;34m\u001b[0m\u001b[0m\n\u001b[0m\u001b[1;32m   3637\u001b[0m             \u001b[0;32mif\u001b[0m \u001b[0;32mnot\u001b[0m \u001b[0misinstance\u001b[0m\u001b[0;34m(\u001b[0m\u001b[0mvalue\u001b[0m\u001b[0;34m,\u001b[0m \u001b[0;34m(\u001b[0m\u001b[0mnp\u001b[0m\u001b[0;34m.\u001b[0m\u001b[0mndarray\u001b[0m\u001b[0;34m,\u001b[0m \u001b[0mIndex\u001b[0m\u001b[0;34m)\u001b[0m\u001b[0;34m)\u001b[0m\u001b[0;34m:\u001b[0m\u001b[0;34m\u001b[0m\u001b[0;34m\u001b[0m\u001b[0m\n\u001b[1;32m   3638\u001b[0m                 \u001b[0;32mif\u001b[0m \u001b[0misinstance\u001b[0m\u001b[0;34m(\u001b[0m\u001b[0mvalue\u001b[0m\u001b[0;34m,\u001b[0m \u001b[0mlist\u001b[0m\u001b[0;34m)\u001b[0m \u001b[0;32mand\u001b[0m \u001b[0mlen\u001b[0m\u001b[0;34m(\u001b[0m\u001b[0mvalue\u001b[0m\u001b[0;34m)\u001b[0m \u001b[0;34m>\u001b[0m \u001b[0;36m0\u001b[0m\u001b[0;34m:\u001b[0m\u001b[0;34m\u001b[0m\u001b[0;34m\u001b[0m\u001b[0m\n",
      "\u001b[0;32m~/anaconda3/lib/python3.7/site-packages/pandas/core/internals/construction.py\u001b[0m in \u001b[0;36msanitize_index\u001b[0;34m(data, index, copy)\u001b[0m\n\u001b[1;32m    609\u001b[0m \u001b[0;34m\u001b[0m\u001b[0m\n\u001b[1;32m    610\u001b[0m     \u001b[0;32mif\u001b[0m \u001b[0mlen\u001b[0m\u001b[0;34m(\u001b[0m\u001b[0mdata\u001b[0m\u001b[0;34m)\u001b[0m \u001b[0;34m!=\u001b[0m \u001b[0mlen\u001b[0m\u001b[0;34m(\u001b[0m\u001b[0mindex\u001b[0m\u001b[0;34m)\u001b[0m\u001b[0;34m:\u001b[0m\u001b[0;34m\u001b[0m\u001b[0;34m\u001b[0m\u001b[0m\n\u001b[0;32m--> 611\u001b[0;31m         \u001b[0;32mraise\u001b[0m \u001b[0mValueError\u001b[0m\u001b[0;34m(\u001b[0m\u001b[0;34m\"Length of values does not match length of index\"\u001b[0m\u001b[0;34m)\u001b[0m\u001b[0;34m\u001b[0m\u001b[0;34m\u001b[0m\u001b[0m\n\u001b[0m\u001b[1;32m    612\u001b[0m \u001b[0;34m\u001b[0m\u001b[0m\n\u001b[1;32m    613\u001b[0m     \u001b[0;32mif\u001b[0m \u001b[0misinstance\u001b[0m\u001b[0;34m(\u001b[0m\u001b[0mdata\u001b[0m\u001b[0;34m,\u001b[0m \u001b[0mABCIndexClass\u001b[0m\u001b[0;34m)\u001b[0m \u001b[0;32mand\u001b[0m \u001b[0;32mnot\u001b[0m \u001b[0mcopy\u001b[0m\u001b[0;34m:\u001b[0m\u001b[0;34m\u001b[0m\u001b[0;34m\u001b[0m\u001b[0m\n",
      "\u001b[0;31mValueError\u001b[0m: Length of values does not match length of index"
     ]
    }
   ],
   "source": [
    "ingredient_table = recipe_data[['id', 'ingredients']].explode('ingredients')\n",
    "ingredient_table['quantity'] = numpy.random.randint(1,10, ingredient_table.shape[0])\n",
    "ingredient_table['units'] = rand_units\n",
    "ingredient_table.columns = ['recipeId', 'foodName', 'quantity', 'units']"
   ]
  },
  {
   "cell_type": "code",
   "execution_count": 47,
   "metadata": {},
   "outputs": [
    {
     "output_type": "execute_result",
     "data": {
      "text/plain": "        id           ingredients  quantity\n0   137739         winter squash         5\n0   137739     mexican seasoning         9\n0   137739           mixed spice         5\n0   137739                 honey         8\n0   137739                butter         8\n..     ...                   ...       ...\n49  108414                   egg         4\n49  108414           heavy cream         7\n49  108414             jalapenos         4\n49  108414  sharp cheddar cheese         4\n49  108414                 honey         4\n\n[471 rows x 3 columns]",
      "text/html": "<div>\n<style scoped>\n    .dataframe tbody tr th:only-of-type {\n        vertical-align: middle;\n    }\n\n    .dataframe tbody tr th {\n        vertical-align: top;\n    }\n\n    .dataframe thead th {\n        text-align: right;\n    }\n</style>\n<table border=\"1\" class=\"dataframe\">\n  <thead>\n    <tr style=\"text-align: right;\">\n      <th></th>\n      <th>id</th>\n      <th>ingredients</th>\n      <th>quantity</th>\n    </tr>\n  </thead>\n  <tbody>\n    <tr>\n      <th>0</th>\n      <td>137739</td>\n      <td>winter squash</td>\n      <td>5</td>\n    </tr>\n    <tr>\n      <th>0</th>\n      <td>137739</td>\n      <td>mexican seasoning</td>\n      <td>9</td>\n    </tr>\n    <tr>\n      <th>0</th>\n      <td>137739</td>\n      <td>mixed spice</td>\n      <td>5</td>\n    </tr>\n    <tr>\n      <th>0</th>\n      <td>137739</td>\n      <td>honey</td>\n      <td>8</td>\n    </tr>\n    <tr>\n      <th>0</th>\n      <td>137739</td>\n      <td>butter</td>\n      <td>8</td>\n    </tr>\n    <tr>\n      <th>...</th>\n      <td>...</td>\n      <td>...</td>\n      <td>...</td>\n    </tr>\n    <tr>\n      <th>49</th>\n      <td>108414</td>\n      <td>egg</td>\n      <td>4</td>\n    </tr>\n    <tr>\n      <th>49</th>\n      <td>108414</td>\n      <td>heavy cream</td>\n      <td>7</td>\n    </tr>\n    <tr>\n      <th>49</th>\n      <td>108414</td>\n      <td>jalapenos</td>\n      <td>4</td>\n    </tr>\n    <tr>\n      <th>49</th>\n      <td>108414</td>\n      <td>sharp cheddar cheese</td>\n      <td>4</td>\n    </tr>\n    <tr>\n      <th>49</th>\n      <td>108414</td>\n      <td>honey</td>\n      <td>4</td>\n    </tr>\n  </tbody>\n</table>\n<p>471 rows × 3 columns</p>\n</div>"
     },
     "metadata": {},
     "execution_count": 47
    }
   ],
   "source": [
    "ingredient_table"
   ]
  },
  {
   "cell_type": "code",
   "execution_count": 48,
   "metadata": {},
   "outputs": [],
   "source": [
    "tag_table = recipe_data[['id', 'tags']].explode('tags')\n",
    "tag_table = tag_table[~tag_table.tags.isin(FM.labels) & (~tag_table.tags.isin(FM.cuisines))]\n",
    "tag_table.columns = ['recipeId', 'tags']"
   ]
  },
  {
   "cell_type": "code",
   "execution_count": 49,
   "metadata": {},
   "outputs": [
    {
     "output_type": "execute_result",
     "data": {
      "text/plain": "    recipeId                tags\n0     137739  60-minutes-or-less\n0     137739          vegetables\n0     137739                easy\n0     137739                fall\n0     137739          vegetarian\n..       ...                 ...\n49    108414          vegetables\n49    108414                easy\n49    108414       beginner-cook\n49    108414         inexpensive\n49    108414                corn\n\n[527 rows x 2 columns]",
      "text/html": "<div>\n<style scoped>\n    .dataframe tbody tr th:only-of-type {\n        vertical-align: middle;\n    }\n\n    .dataframe tbody tr th {\n        vertical-align: top;\n    }\n\n    .dataframe thead th {\n        text-align: right;\n    }\n</style>\n<table border=\"1\" class=\"dataframe\">\n  <thead>\n    <tr style=\"text-align: right;\">\n      <th></th>\n      <th>recipeId</th>\n      <th>tags</th>\n    </tr>\n  </thead>\n  <tbody>\n    <tr>\n      <th>0</th>\n      <td>137739</td>\n      <td>60-minutes-or-less</td>\n    </tr>\n    <tr>\n      <th>0</th>\n      <td>137739</td>\n      <td>vegetables</td>\n    </tr>\n    <tr>\n      <th>0</th>\n      <td>137739</td>\n      <td>easy</td>\n    </tr>\n    <tr>\n      <th>0</th>\n      <td>137739</td>\n      <td>fall</td>\n    </tr>\n    <tr>\n      <th>0</th>\n      <td>137739</td>\n      <td>vegetarian</td>\n    </tr>\n    <tr>\n      <th>...</th>\n      <td>...</td>\n      <td>...</td>\n    </tr>\n    <tr>\n      <th>49</th>\n      <td>108414</td>\n      <td>vegetables</td>\n    </tr>\n    <tr>\n      <th>49</th>\n      <td>108414</td>\n      <td>easy</td>\n    </tr>\n    <tr>\n      <th>49</th>\n      <td>108414</td>\n      <td>beginner-cook</td>\n    </tr>\n    <tr>\n      <th>49</th>\n      <td>108414</td>\n      <td>inexpensive</td>\n    </tr>\n    <tr>\n      <th>49</th>\n      <td>108414</td>\n      <td>corn</td>\n    </tr>\n  </tbody>\n</table>\n<p>527 rows × 2 columns</p>\n</div>"
     },
     "metadata": {},
     "execution_count": 49
    }
   ],
   "source": [
    "tag_table"
   ]
  },
  {
   "cell_type": "code",
   "execution_count": 50,
   "metadata": {},
   "outputs": [],
   "source": [
    "recipe_table = recipe_data[['id', 'name', 'minutes', 'n_steps', 'tags', 'n_ingredients', 'contributor_id']]\n",
    "recipe_table.columns = ['recipeId', 'recipeName', 'cookTime', 'difficulty', 'cuisine', 'servings', 'authorName']"
   ]
  },
  {
   "cell_type": "code",
   "execution_count": 51,
   "metadata": {},
   "outputs": [],
   "source": [
    "def find_tags(tags, tag_set):\n",
    "    tagged = list(set(tags).intersection(tag_set))\n",
    "    if tagged:\n",
    "        return tagged[-1]\n",
    "    else:\n",
    "        return None"
   ]
  },
  {
   "cell_type": "code",
   "execution_count": 52,
   "metadata": {},
   "outputs": [],
   "source": [
    "recipe_table.cuisine = recipe_table.cuisine.apply(find_tags, args=(FM.cuisines,))"
   ]
  },
  {
   "cell_type": "code",
   "execution_count": 53,
   "metadata": {},
   "outputs": [],
   "source": [
    "names = pandas.read_csv('StateNames.csv').Name"
   ]
  },
  {
   "cell_type": "code",
   "execution_count": 54,
   "metadata": {},
   "outputs": [],
   "source": [
    "def id_toName(authorID):\n",
    "    return names[authorID%names.size]"
   ]
  },
  {
   "cell_type": "code",
   "execution_count": 55,
   "metadata": {},
   "outputs": [],
   "source": [
    "recipe_table.authorName = recipe_table.authorName.apply(id_toName)"
   ]
  },
  {
   "cell_type": "code",
   "execution_count": 56,
   "metadata": {},
   "outputs": [],
   "source": [
    "recipe_table['instructionsLink'] = \"https://www.food.com/recipe/\" + recipe_table.recipeName.str.replace('\\s+', '-').str.cat(recipe_table.recipeId.astype('str'), '-')"
   ]
  },
  {
   "cell_type": "code",
   "execution_count": 57,
   "metadata": {},
   "outputs": [
    {
     "output_type": "execute_result",
     "data": {
      "text/plain": "    recipeId                                         recipeName  cookTime  \\\n0     137739         arriba   baked winter squash mexican style        55   \n1      31490                   a bit different  breakfast pizza        30   \n2     112140                          all in the kitchen  chili       130   \n3      59389                                 alouette  potatoes        45   \n4      44061                 amish  tomato ketchup  for canning       190   \n5       5289                            apple a day  milk shake         0   \n6      25274                              aww  marinated olives        15   \n7      67888                     backyard style  barbecued ribs       120   \n8      70971                           bananas 4 ice cream  pie       180   \n9      75452                            beat this  banana bread        70   \n10    109439                        berry  good sandwich spread         5   \n11     42198                      better than sex  strawberries      1460   \n12     67547                    better then bush s  baked beans      2970   \n13    107517                         boat house  collard greens       525   \n14     39959                            calm your nerves  tonic         5   \n15     63986                   chicken lickin  good  pork chops       500   \n16     43026                                     chile rellenos        45   \n17     23933                                     chinese  candy        15   \n18      8559                                 chinese  chop suey        70   \n19     23850                  cream  of cauliflower soup  vegan       110   \n20     76808                             cream  of spinach soup        45   \n21     24701                      cream  of spinach soup  vegan        55   \n22     83873                            crispy crunchy  chicken        35   \n23    107699                         deep fried dessert thingys        20   \n24     49262                    easiest ever  hollandaise sauce        25   \n25     48156                   emotional balance  spice mixture        10   \n26     54272                        fool the meat eaters  chili        40   \n27     47366                              forgotten  minestrone       495   \n28     37073                                    fried  potatoes        40   \n29     44123              george s at the cove  black bean soup        90   \n30     27087                        get the sensation  brownies        70   \n31     59952                     global gourmet  taco casserole        55   \n32     93249                               grilled  ranch bread        13   \n33     54100                           grilled  venison burgers        26   \n34     67664                 healthy for them  yogurt popsicles        10   \n35     87098                homemade  vegetable soup from a can        12   \n36     25775  how i got my family to eat spinach  spinach ca...        50   \n37     33165  i can t believe it s low fat  creamy potato salad        30   \n38     38798                       i can t believe it s spinach        30   \n39     22123       i don t feel like cooking tonight  casserole        45   \n40     90921         i stole the idea from mirj  sesame noodles        18   \n41     93959                      i yam what i yam two  muffins        35   \n42     93958                          i yam what i yam  muffins        45   \n43     58224              immoral  sandwich filling  loose meat        35   \n44     33606                      italian sandwich  pasta salad        25   \n45     94710                                     italian  fries        15   \n46     35173                               italian  gut busters        45   \n47     83025                      jeanne s style  birthday cake       230   \n48     52804                     jiffy  extra moist carrot cake        50   \n49    108414         jiffy  roasted corn and jalapeno cornbread        35   \n\n    difficulty                     cuisine  servings authorName  \\\n0           11                     mexican         7     Deanna   \n1            9              north-american         6      Brody   \n2            6                        None        13        Mya   \n3           11                        None        11    Marissa   \n4            5              north-american         8     Hettie   \n5            4              north-american         4  Charlotte   \n6            4                    canadian         9       Luke   \n7           10              north-american        22     Claire   \n8            8                        None         6      Hiram   \n9           12                        None         9    Anthony   \n10           2                        None         3     Martha   \n11           8                comfort-food         7      Effie   \n12           9              north-american        13      Dasia   \n13           7                        None         7    Javaris   \n14           6                        None         5     Wylene   \n15           5                        None         7      Isaac   \n16           9  southwestern-united-states         5      Anita   \n17           4                        None         3    Alberta   \n18           8              north-american         7    Roberta   \n19          10              north-american        16   Lorraine   \n20           9                comfort-food         8       Odis   \n21          10                comfort-food        12   Lorraine   \n22           8                        None        10      Oneal   \n23          20                        None        13      Emily   \n24           7                        None         5       Erin   \n25           2                       asian         6     Kristy   \n26           9                comfort-food        12       Mona   \n27           5                        None        14     Sammie   \n28          14                        None         3  Charlotte   \n29          11                comfort-food        18    Juanita   \n30          11                comfort-food         9    Georgie   \n31          11                     mexican        12       Floy   \n32           4                        None         3    Kaylynn   \n33          13                        None        10     Cheryl   \n34           3                        None         3    Emmalee   \n35           6                        None         8      Sally   \n36           5                        None         8    Georgie   \n37          12                        None        13       Iris   \n38           5                        None         8  Charlotte   \n39           6                comfort-food         8        Ora   \n40           8                       asian         8      Tommy   \n41          10                        None        21   Ladarius   \n42          10                        None        18   Ladarius   \n43           6                        None         8        Ina   \n44           6                        None        16      Brody   \n45           4                        None         7    Delilah   \n46           7                        None         9      Chase   \n47          25                        None        10   Benjamin   \n48           8                comfort-food        11      Emily   \n49          10                comfort-food        10       Zula   \n\n                                     instructionsLink  \n0   https://www.food.com/recipe/arriba-baked-winte...  \n1   https://www.food.com/recipe/a-bit-different-br...  \n2   https://www.food.com/recipe/all-in-the-kitchen...  \n3   https://www.food.com/recipe/alouette-potatoes-...  \n4   https://www.food.com/recipe/amish-tomato-ketch...  \n5   https://www.food.com/recipe/apple-a-day-milk-s...  \n6   https://www.food.com/recipe/aww-marinated-oliv...  \n7   https://www.food.com/recipe/backyard-style-bar...  \n8   https://www.food.com/recipe/bananas-4-ice-crea...  \n9   https://www.food.com/recipe/beat-this-banana-b...  \n10  https://www.food.com/recipe/berry-good-sandwic...  \n11  https://www.food.com/recipe/better-than-sex-st...  \n12  https://www.food.com/recipe/better-then-bush-s...  \n13  https://www.food.com/recipe/boat-house-collard...  \n14  https://www.food.com/recipe/calm-your-nerves-t...  \n15  https://www.food.com/recipe/chicken-lickin-goo...  \n16   https://www.food.com/recipe/chile-rellenos-43026  \n17    https://www.food.com/recipe/chinese-candy-23933  \n18  https://www.food.com/recipe/chinese-chop-suey-...  \n19  https://www.food.com/recipe/cream-of-cauliflow...  \n20  https://www.food.com/recipe/cream-of-spinach-s...  \n21  https://www.food.com/recipe/cream-of-spinach-s...  \n22  https://www.food.com/recipe/crispy-crunchy-chi...  \n23  https://www.food.com/recipe/deep-fried-dessert...  \n24  https://www.food.com/recipe/easiest-ever-holla...  \n25  https://www.food.com/recipe/emotional-balance-...  \n26  https://www.food.com/recipe/fool-the-meat-eate...  \n27  https://www.food.com/recipe/forgotten-minestro...  \n28   https://www.food.com/recipe/fried-potatoes-37073  \n29  https://www.food.com/recipe/george-s-at-the-co...  \n30  https://www.food.com/recipe/get-the-sensation-...  \n31  https://www.food.com/recipe/global-gourmet-tac...  \n32  https://www.food.com/recipe/grilled-ranch-brea...  \n33  https://www.food.com/recipe/grilled-venison-bu...  \n34  https://www.food.com/recipe/healthy-for-them-y...  \n35  https://www.food.com/recipe/homemade-vegetable...  \n36  https://www.food.com/recipe/how-i-got-my-famil...  \n37  https://www.food.com/recipe/i-can-t-believe-it...  \n38  https://www.food.com/recipe/i-can-t-believe-it...  \n39  https://www.food.com/recipe/i-don-t-feel-like-...  \n40  https://www.food.com/recipe/i-stole-the-idea-f...  \n41  https://www.food.com/recipe/i-yam-what-i-yam-t...  \n42  https://www.food.com/recipe/i-yam-what-i-yam-m...  \n43  https://www.food.com/recipe/immoral-sandwich-f...  \n44  https://www.food.com/recipe/italian-sandwich-p...  \n45    https://www.food.com/recipe/italian-fries-94710  \n46  https://www.food.com/recipe/italian-gut-buster...  \n47  https://www.food.com/recipe/jeanne-s-style-bir...  \n48  https://www.food.com/recipe/jiffy-extra-moist-...  \n49  https://www.food.com/recipe/jiffy-roasted-corn...  ",
      "text/html": "<div>\n<style scoped>\n    .dataframe tbody tr th:only-of-type {\n        vertical-align: middle;\n    }\n\n    .dataframe tbody tr th {\n        vertical-align: top;\n    }\n\n    .dataframe thead th {\n        text-align: right;\n    }\n</style>\n<table border=\"1\" class=\"dataframe\">\n  <thead>\n    <tr style=\"text-align: right;\">\n      <th></th>\n      <th>recipeId</th>\n      <th>recipeName</th>\n      <th>cookTime</th>\n      <th>difficulty</th>\n      <th>cuisine</th>\n      <th>servings</th>\n      <th>authorName</th>\n      <th>instructionsLink</th>\n    </tr>\n  </thead>\n  <tbody>\n    <tr>\n      <th>0</th>\n      <td>137739</td>\n      <td>arriba   baked winter squash mexican style</td>\n      <td>55</td>\n      <td>11</td>\n      <td>mexican</td>\n      <td>7</td>\n      <td>Deanna</td>\n      <td>https://www.food.com/recipe/arriba-baked-winte...</td>\n    </tr>\n    <tr>\n      <th>1</th>\n      <td>31490</td>\n      <td>a bit different  breakfast pizza</td>\n      <td>30</td>\n      <td>9</td>\n      <td>north-american</td>\n      <td>6</td>\n      <td>Brody</td>\n      <td>https://www.food.com/recipe/a-bit-different-br...</td>\n    </tr>\n    <tr>\n      <th>2</th>\n      <td>112140</td>\n      <td>all in the kitchen  chili</td>\n      <td>130</td>\n      <td>6</td>\n      <td>None</td>\n      <td>13</td>\n      <td>Mya</td>\n      <td>https://www.food.com/recipe/all-in-the-kitchen...</td>\n    </tr>\n    <tr>\n      <th>3</th>\n      <td>59389</td>\n      <td>alouette  potatoes</td>\n      <td>45</td>\n      <td>11</td>\n      <td>None</td>\n      <td>11</td>\n      <td>Marissa</td>\n      <td>https://www.food.com/recipe/alouette-potatoes-...</td>\n    </tr>\n    <tr>\n      <th>4</th>\n      <td>44061</td>\n      <td>amish  tomato ketchup  for canning</td>\n      <td>190</td>\n      <td>5</td>\n      <td>north-american</td>\n      <td>8</td>\n      <td>Hettie</td>\n      <td>https://www.food.com/recipe/amish-tomato-ketch...</td>\n    </tr>\n    <tr>\n      <th>5</th>\n      <td>5289</td>\n      <td>apple a day  milk shake</td>\n      <td>0</td>\n      <td>4</td>\n      <td>north-american</td>\n      <td>4</td>\n      <td>Charlotte</td>\n      <td>https://www.food.com/recipe/apple-a-day-milk-s...</td>\n    </tr>\n    <tr>\n      <th>6</th>\n      <td>25274</td>\n      <td>aww  marinated olives</td>\n      <td>15</td>\n      <td>4</td>\n      <td>canadian</td>\n      <td>9</td>\n      <td>Luke</td>\n      <td>https://www.food.com/recipe/aww-marinated-oliv...</td>\n    </tr>\n    <tr>\n      <th>7</th>\n      <td>67888</td>\n      <td>backyard style  barbecued ribs</td>\n      <td>120</td>\n      <td>10</td>\n      <td>north-american</td>\n      <td>22</td>\n      <td>Claire</td>\n      <td>https://www.food.com/recipe/backyard-style-bar...</td>\n    </tr>\n    <tr>\n      <th>8</th>\n      <td>70971</td>\n      <td>bananas 4 ice cream  pie</td>\n      <td>180</td>\n      <td>8</td>\n      <td>None</td>\n      <td>6</td>\n      <td>Hiram</td>\n      <td>https://www.food.com/recipe/bananas-4-ice-crea...</td>\n    </tr>\n    <tr>\n      <th>9</th>\n      <td>75452</td>\n      <td>beat this  banana bread</td>\n      <td>70</td>\n      <td>12</td>\n      <td>None</td>\n      <td>9</td>\n      <td>Anthony</td>\n      <td>https://www.food.com/recipe/beat-this-banana-b...</td>\n    </tr>\n    <tr>\n      <th>10</th>\n      <td>109439</td>\n      <td>berry  good sandwich spread</td>\n      <td>5</td>\n      <td>2</td>\n      <td>None</td>\n      <td>3</td>\n      <td>Martha</td>\n      <td>https://www.food.com/recipe/berry-good-sandwic...</td>\n    </tr>\n    <tr>\n      <th>11</th>\n      <td>42198</td>\n      <td>better than sex  strawberries</td>\n      <td>1460</td>\n      <td>8</td>\n      <td>comfort-food</td>\n      <td>7</td>\n      <td>Effie</td>\n      <td>https://www.food.com/recipe/better-than-sex-st...</td>\n    </tr>\n    <tr>\n      <th>12</th>\n      <td>67547</td>\n      <td>better then bush s  baked beans</td>\n      <td>2970</td>\n      <td>9</td>\n      <td>north-american</td>\n      <td>13</td>\n      <td>Dasia</td>\n      <td>https://www.food.com/recipe/better-then-bush-s...</td>\n    </tr>\n    <tr>\n      <th>13</th>\n      <td>107517</td>\n      <td>boat house  collard greens</td>\n      <td>525</td>\n      <td>7</td>\n      <td>None</td>\n      <td>7</td>\n      <td>Javaris</td>\n      <td>https://www.food.com/recipe/boat-house-collard...</td>\n    </tr>\n    <tr>\n      <th>14</th>\n      <td>39959</td>\n      <td>calm your nerves  tonic</td>\n      <td>5</td>\n      <td>6</td>\n      <td>None</td>\n      <td>5</td>\n      <td>Wylene</td>\n      <td>https://www.food.com/recipe/calm-your-nerves-t...</td>\n    </tr>\n    <tr>\n      <th>15</th>\n      <td>63986</td>\n      <td>chicken lickin  good  pork chops</td>\n      <td>500</td>\n      <td>5</td>\n      <td>None</td>\n      <td>7</td>\n      <td>Isaac</td>\n      <td>https://www.food.com/recipe/chicken-lickin-goo...</td>\n    </tr>\n    <tr>\n      <th>16</th>\n      <td>43026</td>\n      <td>chile rellenos</td>\n      <td>45</td>\n      <td>9</td>\n      <td>southwestern-united-states</td>\n      <td>5</td>\n      <td>Anita</td>\n      <td>https://www.food.com/recipe/chile-rellenos-43026</td>\n    </tr>\n    <tr>\n      <th>17</th>\n      <td>23933</td>\n      <td>chinese  candy</td>\n      <td>15</td>\n      <td>4</td>\n      <td>None</td>\n      <td>3</td>\n      <td>Alberta</td>\n      <td>https://www.food.com/recipe/chinese-candy-23933</td>\n    </tr>\n    <tr>\n      <th>18</th>\n      <td>8559</td>\n      <td>chinese  chop suey</td>\n      <td>70</td>\n      <td>8</td>\n      <td>north-american</td>\n      <td>7</td>\n      <td>Roberta</td>\n      <td>https://www.food.com/recipe/chinese-chop-suey-...</td>\n    </tr>\n    <tr>\n      <th>19</th>\n      <td>23850</td>\n      <td>cream  of cauliflower soup  vegan</td>\n      <td>110</td>\n      <td>10</td>\n      <td>north-american</td>\n      <td>16</td>\n      <td>Lorraine</td>\n      <td>https://www.food.com/recipe/cream-of-cauliflow...</td>\n    </tr>\n    <tr>\n      <th>20</th>\n      <td>76808</td>\n      <td>cream  of spinach soup</td>\n      <td>45</td>\n      <td>9</td>\n      <td>comfort-food</td>\n      <td>8</td>\n      <td>Odis</td>\n      <td>https://www.food.com/recipe/cream-of-spinach-s...</td>\n    </tr>\n    <tr>\n      <th>21</th>\n      <td>24701</td>\n      <td>cream  of spinach soup  vegan</td>\n      <td>55</td>\n      <td>10</td>\n      <td>comfort-food</td>\n      <td>12</td>\n      <td>Lorraine</td>\n      <td>https://www.food.com/recipe/cream-of-spinach-s...</td>\n    </tr>\n    <tr>\n      <th>22</th>\n      <td>83873</td>\n      <td>crispy crunchy  chicken</td>\n      <td>35</td>\n      <td>8</td>\n      <td>None</td>\n      <td>10</td>\n      <td>Oneal</td>\n      <td>https://www.food.com/recipe/crispy-crunchy-chi...</td>\n    </tr>\n    <tr>\n      <th>23</th>\n      <td>107699</td>\n      <td>deep fried dessert thingys</td>\n      <td>20</td>\n      <td>20</td>\n      <td>None</td>\n      <td>13</td>\n      <td>Emily</td>\n      <td>https://www.food.com/recipe/deep-fried-dessert...</td>\n    </tr>\n    <tr>\n      <th>24</th>\n      <td>49262</td>\n      <td>easiest ever  hollandaise sauce</td>\n      <td>25</td>\n      <td>7</td>\n      <td>None</td>\n      <td>5</td>\n      <td>Erin</td>\n      <td>https://www.food.com/recipe/easiest-ever-holla...</td>\n    </tr>\n    <tr>\n      <th>25</th>\n      <td>48156</td>\n      <td>emotional balance  spice mixture</td>\n      <td>10</td>\n      <td>2</td>\n      <td>asian</td>\n      <td>6</td>\n      <td>Kristy</td>\n      <td>https://www.food.com/recipe/emotional-balance-...</td>\n    </tr>\n    <tr>\n      <th>26</th>\n      <td>54272</td>\n      <td>fool the meat eaters  chili</td>\n      <td>40</td>\n      <td>9</td>\n      <td>comfort-food</td>\n      <td>12</td>\n      <td>Mona</td>\n      <td>https://www.food.com/recipe/fool-the-meat-eate...</td>\n    </tr>\n    <tr>\n      <th>27</th>\n      <td>47366</td>\n      <td>forgotten  minestrone</td>\n      <td>495</td>\n      <td>5</td>\n      <td>None</td>\n      <td>14</td>\n      <td>Sammie</td>\n      <td>https://www.food.com/recipe/forgotten-minestro...</td>\n    </tr>\n    <tr>\n      <th>28</th>\n      <td>37073</td>\n      <td>fried  potatoes</td>\n      <td>40</td>\n      <td>14</td>\n      <td>None</td>\n      <td>3</td>\n      <td>Charlotte</td>\n      <td>https://www.food.com/recipe/fried-potatoes-37073</td>\n    </tr>\n    <tr>\n      <th>29</th>\n      <td>44123</td>\n      <td>george s at the cove  black bean soup</td>\n      <td>90</td>\n      <td>11</td>\n      <td>comfort-food</td>\n      <td>18</td>\n      <td>Juanita</td>\n      <td>https://www.food.com/recipe/george-s-at-the-co...</td>\n    </tr>\n    <tr>\n      <th>30</th>\n      <td>27087</td>\n      <td>get the sensation  brownies</td>\n      <td>70</td>\n      <td>11</td>\n      <td>comfort-food</td>\n      <td>9</td>\n      <td>Georgie</td>\n      <td>https://www.food.com/recipe/get-the-sensation-...</td>\n    </tr>\n    <tr>\n      <th>31</th>\n      <td>59952</td>\n      <td>global gourmet  taco casserole</td>\n      <td>55</td>\n      <td>11</td>\n      <td>mexican</td>\n      <td>12</td>\n      <td>Floy</td>\n      <td>https://www.food.com/recipe/global-gourmet-tac...</td>\n    </tr>\n    <tr>\n      <th>32</th>\n      <td>93249</td>\n      <td>grilled  ranch bread</td>\n      <td>13</td>\n      <td>4</td>\n      <td>None</td>\n      <td>3</td>\n      <td>Kaylynn</td>\n      <td>https://www.food.com/recipe/grilled-ranch-brea...</td>\n    </tr>\n    <tr>\n      <th>33</th>\n      <td>54100</td>\n      <td>grilled  venison burgers</td>\n      <td>26</td>\n      <td>13</td>\n      <td>None</td>\n      <td>10</td>\n      <td>Cheryl</td>\n      <td>https://www.food.com/recipe/grilled-venison-bu...</td>\n    </tr>\n    <tr>\n      <th>34</th>\n      <td>67664</td>\n      <td>healthy for them  yogurt popsicles</td>\n      <td>10</td>\n      <td>3</td>\n      <td>None</td>\n      <td>3</td>\n      <td>Emmalee</td>\n      <td>https://www.food.com/recipe/healthy-for-them-y...</td>\n    </tr>\n    <tr>\n      <th>35</th>\n      <td>87098</td>\n      <td>homemade  vegetable soup from a can</td>\n      <td>12</td>\n      <td>6</td>\n      <td>None</td>\n      <td>8</td>\n      <td>Sally</td>\n      <td>https://www.food.com/recipe/homemade-vegetable...</td>\n    </tr>\n    <tr>\n      <th>36</th>\n      <td>25775</td>\n      <td>how i got my family to eat spinach  spinach ca...</td>\n      <td>50</td>\n      <td>5</td>\n      <td>None</td>\n      <td>8</td>\n      <td>Georgie</td>\n      <td>https://www.food.com/recipe/how-i-got-my-famil...</td>\n    </tr>\n    <tr>\n      <th>37</th>\n      <td>33165</td>\n      <td>i can t believe it s low fat  creamy potato salad</td>\n      <td>30</td>\n      <td>12</td>\n      <td>None</td>\n      <td>13</td>\n      <td>Iris</td>\n      <td>https://www.food.com/recipe/i-can-t-believe-it...</td>\n    </tr>\n    <tr>\n      <th>38</th>\n      <td>38798</td>\n      <td>i can t believe it s spinach</td>\n      <td>30</td>\n      <td>5</td>\n      <td>None</td>\n      <td>8</td>\n      <td>Charlotte</td>\n      <td>https://www.food.com/recipe/i-can-t-believe-it...</td>\n    </tr>\n    <tr>\n      <th>39</th>\n      <td>22123</td>\n      <td>i don t feel like cooking tonight  casserole</td>\n      <td>45</td>\n      <td>6</td>\n      <td>comfort-food</td>\n      <td>8</td>\n      <td>Ora</td>\n      <td>https://www.food.com/recipe/i-don-t-feel-like-...</td>\n    </tr>\n    <tr>\n      <th>40</th>\n      <td>90921</td>\n      <td>i stole the idea from mirj  sesame noodles</td>\n      <td>18</td>\n      <td>8</td>\n      <td>asian</td>\n      <td>8</td>\n      <td>Tommy</td>\n      <td>https://www.food.com/recipe/i-stole-the-idea-f...</td>\n    </tr>\n    <tr>\n      <th>41</th>\n      <td>93959</td>\n      <td>i yam what i yam two  muffins</td>\n      <td>35</td>\n      <td>10</td>\n      <td>None</td>\n      <td>21</td>\n      <td>Ladarius</td>\n      <td>https://www.food.com/recipe/i-yam-what-i-yam-t...</td>\n    </tr>\n    <tr>\n      <th>42</th>\n      <td>93958</td>\n      <td>i yam what i yam  muffins</td>\n      <td>45</td>\n      <td>10</td>\n      <td>None</td>\n      <td>18</td>\n      <td>Ladarius</td>\n      <td>https://www.food.com/recipe/i-yam-what-i-yam-m...</td>\n    </tr>\n    <tr>\n      <th>43</th>\n      <td>58224</td>\n      <td>immoral  sandwich filling  loose meat</td>\n      <td>35</td>\n      <td>6</td>\n      <td>None</td>\n      <td>8</td>\n      <td>Ina</td>\n      <td>https://www.food.com/recipe/immoral-sandwich-f...</td>\n    </tr>\n    <tr>\n      <th>44</th>\n      <td>33606</td>\n      <td>italian sandwich  pasta salad</td>\n      <td>25</td>\n      <td>6</td>\n      <td>None</td>\n      <td>16</td>\n      <td>Brody</td>\n      <td>https://www.food.com/recipe/italian-sandwich-p...</td>\n    </tr>\n    <tr>\n      <th>45</th>\n      <td>94710</td>\n      <td>italian  fries</td>\n      <td>15</td>\n      <td>4</td>\n      <td>None</td>\n      <td>7</td>\n      <td>Delilah</td>\n      <td>https://www.food.com/recipe/italian-fries-94710</td>\n    </tr>\n    <tr>\n      <th>46</th>\n      <td>35173</td>\n      <td>italian  gut busters</td>\n      <td>45</td>\n      <td>7</td>\n      <td>None</td>\n      <td>9</td>\n      <td>Chase</td>\n      <td>https://www.food.com/recipe/italian-gut-buster...</td>\n    </tr>\n    <tr>\n      <th>47</th>\n      <td>83025</td>\n      <td>jeanne s style  birthday cake</td>\n      <td>230</td>\n      <td>25</td>\n      <td>None</td>\n      <td>10</td>\n      <td>Benjamin</td>\n      <td>https://www.food.com/recipe/jeanne-s-style-bir...</td>\n    </tr>\n    <tr>\n      <th>48</th>\n      <td>52804</td>\n      <td>jiffy  extra moist carrot cake</td>\n      <td>50</td>\n      <td>8</td>\n      <td>comfort-food</td>\n      <td>11</td>\n      <td>Emily</td>\n      <td>https://www.food.com/recipe/jiffy-extra-moist-...</td>\n    </tr>\n    <tr>\n      <th>49</th>\n      <td>108414</td>\n      <td>jiffy  roasted corn and jalapeno cornbread</td>\n      <td>35</td>\n      <td>10</td>\n      <td>comfort-food</td>\n      <td>10</td>\n      <td>Zula</td>\n      <td>https://www.food.com/recipe/jiffy-roasted-corn...</td>\n    </tr>\n  </tbody>\n</table>\n</div>"
     },
     "metadata": {},
     "execution_count": 57
    }
   ],
   "source": [
    "recipe_table"
   ]
  },
  {
   "cell_type": "code",
   "execution_count": 60,
   "metadata": {},
   "outputs": [],
   "source": [
    "keyFile = open(\"APIkey.txt\", \"r\")\n",
    "key = keyFile.read()\n",
    "keyFile.close()"
   ]
  },
  {
   "cell_type": "code",
   "execution_count": 63,
   "metadata": {},
   "outputs": [],
   "source": [
    "from google_images_search import GoogleImagesSearch\n",
    "foodImage = GoogleImagesSearch(key, '017970115376021606908:q3caxr88ame')"
   ]
  },
  {
   "cell_type": "code",
   "execution_count": 64,
   "metadata": {
    "tags": []
   },
   "outputs": [],
   "source": [
    "def find_image(recipe_name):\n",
    "\n",
    "    _searchParams = {\n",
    "        'q': recipe_name,\n",
    "        'num': 1,\n",
    "        'fileType': 'jpg|png'\n",
    "    }\n",
    "    foodImage.search(search_params=_searchParams)\n",
    "    if foodImage.results():\n",
    "        return foodImage.results()[0].url\n",
    "    else:\n",
    "        return None"
   ]
  },
  {
   "cell_type": "code",
   "execution_count": 69,
   "metadata": {
    "tags": []
   },
   "outputs": [
    {
     "output_type": "stream",
     "name": "stdout",
     "text": "({'q': 'arriba baked winter squash mexican style', 'num': 1, 'fileType': 'jpg|png'}, False, None, None, False)\n({'q': 'a bit different breakfast pizza', 'num': 1, 'fileType': 'jpg|png'}, False, None, None, False)\n({'q': 'all in the kitchen chili', 'num': 1, 'fileType': 'jpg|png'}, False, None, None, False)\n({'q': 'alouette potatoes', 'num': 1, 'fileType': 'jpg|png'}, False, None, None, False)\n({'q': 'amish tomato ketchup for canning', 'num': 1, 'fileType': 'jpg|png'}, False, None, None, False)\n({'q': 'apple a day milk shake', 'num': 1, 'fileType': 'jpg|png'}, False, None, None, False)\n({'q': 'aww marinated olives', 'num': 1, 'fileType': 'jpg|png'}, False, None, None, False)\n({'q': 'backyard style barbecued ribs', 'num': 1, 'fileType': 'jpg|png'}, False, None, None, False)\n({'q': 'bananas 4 ice cream pie', 'num': 1, 'fileType': 'jpg|png'}, False, None, None, False)\n({'q': 'beat this banana bread', 'num': 1, 'fileType': 'jpg|png'}, False, None, None, False)\n({'q': 'berry good sandwich spread', 'num': 1, 'fileType': 'jpg|png'}, False, None, None, False)\n({'q': 'better than sex strawberries', 'num': 1, 'fileType': 'jpg|png'}, False, None, None, False)\n({'q': 'better then bush s baked beans', 'num': 1, 'fileType': 'jpg|png'}, False, None, None, False)\n({'q': 'boat house collard greens', 'num': 1, 'fileType': 'jpg|png'}, False, None, None, False)\n({'q': 'calm your nerves tonic', 'num': 1, 'fileType': 'jpg|png'}, False, None, None, False)\n({'q': 'chicken lickin good pork chops', 'num': 1, 'fileType': 'jpg|png'}, False, None, None, False)\n({'q': 'chile rellenos', 'num': 1, 'fileType': 'jpg|png'}, False, None, None, False)\n({'q': 'chinese candy', 'num': 1, 'fileType': 'jpg|png'}, False, None, None, False)\n({'q': 'chinese chop suey', 'num': 1, 'fileType': 'jpg|png'}, False, None, None, False)\n({'q': 'cream of cauliflower soup vegan', 'num': 1, 'fileType': 'jpg|png'}, False, None, None, False)\n({'q': 'cream of spinach soup', 'num': 1, 'fileType': 'jpg|png'}, False, None, None, False)\n({'q': 'cream of spinach soup vegan', 'num': 1, 'fileType': 'jpg|png'}, False, None, None, False)\n({'q': 'crispy crunchy chicken', 'num': 1, 'fileType': 'jpg|png'}, False, None, None, False)\n({'q': 'deep fried dessert thingys', 'num': 1, 'fileType': 'jpg|png'}, False, None, None, False)\n({'q': 'easiest ever hollandaise sauce', 'num': 1, 'fileType': 'jpg|png'}, False, None, None, False)\n({'q': 'emotional balance spice mixture', 'num': 1, 'fileType': 'jpg|png'}, False, None, None, False)\n({'q': 'fool the meat eaters chili', 'num': 1, 'fileType': 'jpg|png'}, False, None, None, False)\n({'q': 'forgotten minestrone', 'num': 1, 'fileType': 'jpg|png'}, False, None, None, False)\n({'q': 'fried potatoes', 'num': 1, 'fileType': 'jpg|png'}, False, None, None, False)\n({'q': 'george s at the cove black bean soup', 'num': 1, 'fileType': 'jpg|png'}, False, None, None, False)\n({'q': 'get the sensation brownies', 'num': 1, 'fileType': 'jpg|png'}, False, None, None, False)\n({'q': 'global gourmet taco casserole', 'num': 1, 'fileType': 'jpg|png'}, False, None, None, False)\n({'q': 'grilled ranch bread', 'num': 1, 'fileType': 'jpg|png'}, False, None, None, False)\n({'q': 'grilled venison burgers', 'num': 1, 'fileType': 'jpg|png'}, False, None, None, False)\n({'q': 'healthy for them yogurt popsicles', 'num': 1, 'fileType': 'jpg|png'}, False, None, None, False)\n({'q': 'homemade vegetable soup from a can', 'num': 1, 'fileType': 'jpg|png'}, False, None, None, False)\n({'q': 'how i got my family to eat spinach spinach casserole', 'num': 1, 'fileType': 'jpg|png'}, False, None, None, False)\n({'q': 'i can t believe it s low fat creamy potato salad', 'num': 1, 'fileType': 'jpg|png'}, False, None, None, False)\n({'q': 'i can t believe it s spinach', 'num': 1, 'fileType': 'jpg|png'}, False, None, None, False)\n({'q': 'i don t feel like cooking tonight casserole', 'num': 1, 'fileType': 'jpg|png'}, False, None, None, False)\n({'q': 'i stole the idea from mirj sesame noodles', 'num': 1, 'fileType': 'jpg|png'}, False, None, None, False)\n({'q': 'i yam what i yam two muffins', 'num': 1, 'fileType': 'jpg|png'}, False, None, None, False)\n({'q': 'i yam what i yam muffins', 'num': 1, 'fileType': 'jpg|png'}, False, None, None, False)\n({'q': 'immoral sandwich filling loose meat', 'num': 1, 'fileType': 'jpg|png'}, False, None, None, False)\n({'q': 'italian sandwich pasta salad', 'num': 1, 'fileType': 'jpg|png'}, False, None, None, False)\n({'q': 'italian fries', 'num': 1, 'fileType': 'jpg|png'}, False, None, None, False)\n({'q': 'italian gut busters', 'num': 1, 'fileType': 'jpg|png'}, False, None, None, False)\n({'q': 'jeanne s style birthday cake', 'num': 1, 'fileType': 'jpg|png'}, False, None, None, False)\n({'q': 'jiffy extra moist carrot cake', 'num': 1, 'fileType': 'jpg|png'}, False, None, None, False)\n({'q': 'jiffy roasted corn and jalapeno cornbread', 'num': 1, 'fileType': 'jpg|png'}, False, None, None, False)\n"
    }
   ],
   "source": [
    "recipe_table['imageUrl'] = recipe_test.recipeName.convert_dtypes().str.replace('\\s+', ' ').apply(find_image)"
   ]
  },
  {
   "cell_type": "code",
   "execution_count": 73,
   "metadata": {},
   "outputs": [],
   "source": [
    "mySql_config = {\n",
    "    \"pool_size\": 5,\n",
    "    \"max_overflow\": 2,\n",
    "    \"pool_timeout\": 30,\n",
    "    \"pool_recycle\": 1800,\n",
    "}\n",
    "mySql_engine = sqlalchemy.create_engine(\n",
    "                sqlalchemy.engine.url.URL(\n",
    "                    drivername=\"mysql+pymysql\",\n",
    "                    username='root',\n",
    "                    password='cs348',\n",
    "                    host='127.0.0.1',\n",
    "                    port='3306',\n",
    "                    database='lol',\n",
    "                ),\n",
    "                **mySql_config\n",
    "            )"
   ]
  },
  {
   "cell_type": "code",
   "execution_count": 76,
   "metadata": {
    "tags": []
   },
   "outputs": [
    {
     "output_type": "stream",
     "name": "stdout",
     "text": "Tables created successfully\n"
    }
   ],
   "source": [
    "from sqlalchemy.types import Integer\n",
    "from sqlalchemy.types import String\n",
    "\n",
    "mySql_connection = mySql_engine.connect()\n",
    "try:\n",
    "    recipe_frame = recipe_table.to_sql('recipes', mySql_connection, if_exists='replace', \n",
    "                        index=False, chunksize=50, \n",
    "                        dtype={'recipeId': Integer(), 'recipeName': String(100), 'cookTime': Integer(), \n",
    "                                'difficulty': Integer(), 'cuisine': String(50), 'servings': Integer(),      \n",
    "                                'authorName': String(50), 'instructionsLink': String(100), 'imageUrl': String(200)})\n",
    "\n",
    "    ingredient_frame = ingredient_table.to_sql('ingredients', mySql_connection, if_exists='replace',\n",
    "                        index=False, chunksize=50,\n",
    "                        dtype={'recipeId': Integer(), 'foodName': String(30), 'qantity': Integer(), \n",
    "                                'units': String(10)})\n",
    "\n",
    "    tag_frame = tag_table.to_sql('tags', mySql_connection, if_exists='replace',\n",
    "                        index=False, chunksize=50,\n",
    "                        dtype={'recipeId': String(30), 'tags': String(30)})\n",
    "\n",
    "except ValueError as vx:\n",
    "    print(vx)\n",
    "\n",
    "except Exception as ex:   \n",
    "    print(ex)\n",
    "\n",
    "else:\n",
    "    print(\"Tables created successfully\");   \n",
    "\n",
    "finally:\n",
    "    mySql_connection.close()"
   ]
  }
 ],
 "metadata": {
  "language_info": {
   "codemirror_mode": {
    "name": "ipython",
    "version": 3
   },
   "file_extension": ".py",
   "mimetype": "text/x-python",
   "name": "python",
   "nbconvert_exporter": "python",
   "pygments_lexer": "ipython3",
   "version": "3.7.6-final"
  },
  "orig_nbformat": 2,
  "kernelspec": {
   "name": "python3",
   "display_name": "Python 3"
  }
 },
 "nbformat": 4,
 "nbformat_minor": 2
}