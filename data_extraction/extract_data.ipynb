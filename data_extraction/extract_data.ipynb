{
 "cells": [
  {
   "cell_type": "code",
   "execution_count": 1,
   "metadata": {},
   "outputs": [],
   "source": [
    "import foodmood_lists as FM\n",
    "import functools\n",
    "import pandas\n",
    "from pandas.io import sql\n",
    "import sqlalchemy\n",
    "import pymysql\n",
    "import numpy"
   ]
  },
  {
   "cell_type": "code",
   "execution_count": 2,
   "metadata": {},
   "outputs": [],
   "source": [
    "recipe_data = pandas.read_csv(\"RAW_recipes.csv\")"
   ]
  },
  {
   "cell_type": "code",
   "execution_count": 3,
   "metadata": {},
   "outputs": [],
   "source": [
    "def listify(tag_string):\n",
    "    return [tag.strip(\"'\") for tag in tag_string.strip('][').split(\", \")]"
   ]
  },
  {
   "cell_type": "code",
   "execution_count": 4,
   "metadata": {},
   "outputs": [],
   "source": [
    "tag_lists = recipe_data['tags'].apply(listify)\n",
    "unique_tags = functools.reduce(lambda a,b: set(a).union(set(b)), tag_lists.to_list())"
   ]
  },
  {
   "cell_type": "code",
   "execution_count": 5,
   "metadata": {},
   "outputs": [],
   "source": [
    "recipe_data.ingredients = recipe_data.ingredients.apply(listify)\n",
    "recipe_data.tags = recipe_data.tags.apply(listify)\n",
    "recipe_data.nutrition = recipe_data.nutrition.apply(listify)\n",
    "recipe_data.steps = recipe_data.steps.apply(listify)"
   ]
  },
  {
   "cell_type": "code",
   "execution_count": 6,
   "metadata": {},
   "outputs": [],
   "source": [
    "units = ['tsp', 'tbsp', 'oz', 'cup', 'pint', 'quart', 'gallon', 'mL', 'L', 'dL', 'lb', 'mg', 'g', 'kg']"
   ]
  },
  {
   "cell_type": "code",
   "execution_count": 7,
   "metadata": {},
   "outputs": [],
   "source": [
    "ingredient_table = recipe_data[['id', 'ingredients']].explode('ingredients')\n",
    "ingredient_table['quantity'] = numpy.random.randint(1,10, ingredient_table.shape[0])\n",
    "rand_units = [units[i%14] for i in range(ingredient_table.shape[0])]\n",
    "ingredient_table['units'] = rand_units\n",
    "ingredient_table.columns = ['recipeId', 'foodName', 'quantity', 'unit']"
   ]
  },
  {
   "cell_type": "code",
   "execution_count": 8,
   "metadata": {},
   "outputs": [
    {
     "output_type": "execute_result",
     "data": {
      "text/plain": "        recipeId           foodName  quantity    unit\n0         137739      winter squash         5     tsp\n0         137739  mexican seasoning         8    tbsp\n0         137739        mixed spice         8      oz\n0         137739              honey         6     cup\n0         137739             butter         5    pint\n...          ...                ...       ...     ...\n231636    298509               eggs         9    pint\n231636    298509              flour         1   quart\n231636    298509    cream of tartar         9  gallon\n231636    298509        baking soda         3      mL\n231636    298509    vanilla extract         6       L\n\n[2103719 rows x 4 columns]",
      "text/html": "<div>\n<style scoped>\n    .dataframe tbody tr th:only-of-type {\n        vertical-align: middle;\n    }\n\n    .dataframe tbody tr th {\n        vertical-align: top;\n    }\n\n    .dataframe thead th {\n        text-align: right;\n    }\n</style>\n<table border=\"1\" class=\"dataframe\">\n  <thead>\n    <tr style=\"text-align: right;\">\n      <th></th>\n      <th>recipeId</th>\n      <th>foodName</th>\n      <th>quantity</th>\n      <th>unit</th>\n    </tr>\n  </thead>\n  <tbody>\n    <tr>\n      <th>0</th>\n      <td>137739</td>\n      <td>winter squash</td>\n      <td>5</td>\n      <td>tsp</td>\n    </tr>\n    <tr>\n      <th>0</th>\n      <td>137739</td>\n      <td>mexican seasoning</td>\n      <td>8</td>\n      <td>tbsp</td>\n    </tr>\n    <tr>\n      <th>0</th>\n      <td>137739</td>\n      <td>mixed spice</td>\n      <td>8</td>\n      <td>oz</td>\n    </tr>\n    <tr>\n      <th>0</th>\n      <td>137739</td>\n      <td>honey</td>\n      <td>6</td>\n      <td>cup</td>\n    </tr>\n    <tr>\n      <th>0</th>\n      <td>137739</td>\n      <td>butter</td>\n      <td>5</td>\n      <td>pint</td>\n    </tr>\n    <tr>\n      <th>...</th>\n      <td>...</td>\n      <td>...</td>\n      <td>...</td>\n      <td>...</td>\n    </tr>\n    <tr>\n      <th>231636</th>\n      <td>298509</td>\n      <td>eggs</td>\n      <td>9</td>\n      <td>pint</td>\n    </tr>\n    <tr>\n      <th>231636</th>\n      <td>298509</td>\n      <td>flour</td>\n      <td>1</td>\n      <td>quart</td>\n    </tr>\n    <tr>\n      <th>231636</th>\n      <td>298509</td>\n      <td>cream of tartar</td>\n      <td>9</td>\n      <td>gallon</td>\n    </tr>\n    <tr>\n      <th>231636</th>\n      <td>298509</td>\n      <td>baking soda</td>\n      <td>3</td>\n      <td>mL</td>\n    </tr>\n    <tr>\n      <th>231636</th>\n      <td>298509</td>\n      <td>vanilla extract</td>\n      <td>6</td>\n      <td>L</td>\n    </tr>\n  </tbody>\n</table>\n<p>2103719 rows × 4 columns</p>\n</div>"
     },
     "metadata": {},
     "execution_count": 8
    }
   ],
   "source": [
    "ingredient_table"
   ]
  },
  {
   "cell_type": "code",
   "execution_count": 9,
   "metadata": {},
   "outputs": [],
   "source": [
    "tag_table = recipe_data[['id', 'tags']].explode('tags')\n",
    "tag_table = tag_table[~tag_table.tags.isin(FM.labels) & (~tag_table.tags.isin(FM.cuisines))]\n",
    "tag_table.columns = ['recipeId', 'tagName']"
   ]
  },
  {
   "cell_type": "code",
   "execution_count": 10,
   "metadata": {},
   "outputs": [
    {
     "output_type": "execute_result",
     "data": {
      "text/plain": "        recipeId               tagName\n0         137739    60-minutes-or-less\n0         137739            vegetables\n0         137739                  easy\n0         137739                  fall\n0         137739            vegetarian\n...          ...                   ...\n231636    298509              desserts\n231636    298509          kid-friendly\n231636    298509  cookies-and-brownies\n231636    298509               dietary\n231636    298509                 sweet\n\n[2386042 rows x 2 columns]",
      "text/html": "<div>\n<style scoped>\n    .dataframe tbody tr th:only-of-type {\n        vertical-align: middle;\n    }\n\n    .dataframe tbody tr th {\n        vertical-align: top;\n    }\n\n    .dataframe thead th {\n        text-align: right;\n    }\n</style>\n<table border=\"1\" class=\"dataframe\">\n  <thead>\n    <tr style=\"text-align: right;\">\n      <th></th>\n      <th>recipeId</th>\n      <th>tagName</th>\n    </tr>\n  </thead>\n  <tbody>\n    <tr>\n      <th>0</th>\n      <td>137739</td>\n      <td>60-minutes-or-less</td>\n    </tr>\n    <tr>\n      <th>0</th>\n      <td>137739</td>\n      <td>vegetables</td>\n    </tr>\n    <tr>\n      <th>0</th>\n      <td>137739</td>\n      <td>easy</td>\n    </tr>\n    <tr>\n      <th>0</th>\n      <td>137739</td>\n      <td>fall</td>\n    </tr>\n    <tr>\n      <th>0</th>\n      <td>137739</td>\n      <td>vegetarian</td>\n    </tr>\n    <tr>\n      <th>...</th>\n      <td>...</td>\n      <td>...</td>\n    </tr>\n    <tr>\n      <th>231636</th>\n      <td>298509</td>\n      <td>desserts</td>\n    </tr>\n    <tr>\n      <th>231636</th>\n      <td>298509</td>\n      <td>kid-friendly</td>\n    </tr>\n    <tr>\n      <th>231636</th>\n      <td>298509</td>\n      <td>cookies-and-brownies</td>\n    </tr>\n    <tr>\n      <th>231636</th>\n      <td>298509</td>\n      <td>dietary</td>\n    </tr>\n    <tr>\n      <th>231636</th>\n      <td>298509</td>\n      <td>sweet</td>\n    </tr>\n  </tbody>\n</table>\n<p>2386042 rows × 2 columns</p>\n</div>"
     },
     "metadata": {},
     "execution_count": 10
    }
   ],
   "source": [
    "tag_table"
   ]
  },
  {
   "cell_type": "code",
   "execution_count": 11,
   "metadata": {},
   "outputs": [],
   "source": [
    "recipe_table = recipe_data[['id', 'name', 'minutes', 'n_steps', 'tags', 'n_ingredients', 'contributor_id']]\n",
    "recipe_table.columns = ['recipeId', 'recipeName', 'cookTime', 'difficulty', 'cuisine', 'servings', 'authorName']"
   ]
  },
  {
   "cell_type": "code",
   "execution_count": 12,
   "metadata": {},
   "outputs": [],
   "source": [
    "def find_tags(tags, tag_set):\n",
    "    tagged = list(set(tags).intersection(tag_set))\n",
    "    if tagged:\n",
    "        return tagged[-1]\n",
    "    else:\n",
    "        return None"
   ]
  },
  {
   "cell_type": "code",
   "execution_count": 13,
   "metadata": {},
   "outputs": [],
   "source": [
    "recipe_table.cuisine = recipe_table.cuisine.apply(find_tags, args=(FM.cuisines,))"
   ]
  },
  {
   "cell_type": "code",
   "execution_count": 14,
   "metadata": {},
   "outputs": [],
   "source": [
    "names = pandas.read_csv('StateNames.csv').Name"
   ]
  },
  {
   "cell_type": "code",
   "execution_count": 15,
   "metadata": {},
   "outputs": [],
   "source": [
    "def id_toName(authorID):\n",
    "    return names[authorID%names.size]"
   ]
  },
  {
   "cell_type": "code",
   "execution_count": 16,
   "metadata": {},
   "outputs": [],
   "source": [
    "recipe_table.authorName = recipe_table.authorName.apply(id_toName)"
   ]
  },
  {
   "cell_type": "code",
   "execution_count": 17,
   "metadata": {},
   "outputs": [],
   "source": [
    "recipe_table['instructionsLink'] = \"https://www.food.com/recipe/\" + recipe_table.recipeName.str.replace('\\s+', '-').str.cat(recipe_table.recipeId.astype('str'), '-')"
   ]
  },
  {
   "cell_type": "code",
   "execution_count": 18,
   "metadata": {},
   "outputs": [],
   "source": [
    "recipe_table = recipe_table.dropna()"
   ]
  },
  {
   "cell_type": "code",
   "execution_count": 19,
   "metadata": {},
   "outputs": [],
   "source": [
    "recipe_table.recipeName = recipe_table.recipeName.str.replace('\\s+', ' ').str.title()\n",
    "recipe_table.cuisine = recipe_table.cuisine.str.title()"
   ]
  },
  {
   "cell_type": "code",
   "execution_count": 20,
   "metadata": {},
   "outputs": [
    {
     "output_type": "execute_result",
     "data": {
      "text/plain": "        recipeId                                  recipeName  cookTime  \\\n0         137739    Arriba Baked Winter Squash Mexican Style        55   \n1          31490             A Bit Different Breakfast Pizza        30   \n4          44061            Amish Tomato Ketchup For Canning       190   \n5           5289                      Apple A Day Milk Shake         0   \n6          25274                        Aww Marinated Olives        15   \n...          ...                                         ...       ...   \n231626     61748        Zwiebelsuppe Clear German Onion Soup        35   \n231627    410985                 Zwiebelwhe Swiss Onion Tart       165   \n231630    357451                                Zydeco Sauce        15   \n231632    486161                                 Zydeco Soup        60   \n231636    298509  Cookies By Design Sugar Shortbread Cookies        20   \n\n        difficulty                 cuisine  servings authorName  \\\n0               11          North-American         7     Deanna   \n1                9                American         6      Brody   \n4                5          North-American         8     Hettie   \n5                4                American         4  Charlotte   \n6                4          North-American         9       Luke   \n...            ...                     ...       ...        ...   \n231626          10                European        11      Lilla   \n231627          38                European        13      Susie   \n231630           3                American         6     Sharae   \n231632           7  Southern-United-States        22      Casey   \n231636           5            Comfort-Food         7     Indira   \n\n                                         instructionsLink  \n0       https://www.food.com/recipe/arriba-baked-winte...  \n1       https://www.food.com/recipe/a-bit-different-br...  \n4       https://www.food.com/recipe/amish-tomato-ketch...  \n5       https://www.food.com/recipe/apple-a-day-milk-s...  \n6       https://www.food.com/recipe/aww-marinated-oliv...  \n...                                                   ...  \n231626  https://www.food.com/recipe/zwiebelsuppe-clear...  \n231627  https://www.food.com/recipe/zwiebelwhe-swiss-o...  \n231630    https://www.food.com/recipe/zydeco-sauce-357451  \n231632     https://www.food.com/recipe/zydeco-soup-486161  \n231636  https://www.food.com/recipe/cookies-by-design-...  \n\n[106119 rows x 8 columns]",
      "text/html": "<div>\n<style scoped>\n    .dataframe tbody tr th:only-of-type {\n        vertical-align: middle;\n    }\n\n    .dataframe tbody tr th {\n        vertical-align: top;\n    }\n\n    .dataframe thead th {\n        text-align: right;\n    }\n</style>\n<table border=\"1\" class=\"dataframe\">\n  <thead>\n    <tr style=\"text-align: right;\">\n      <th></th>\n      <th>recipeId</th>\n      <th>recipeName</th>\n      <th>cookTime</th>\n      <th>difficulty</th>\n      <th>cuisine</th>\n      <th>servings</th>\n      <th>authorName</th>\n      <th>instructionsLink</th>\n    </tr>\n  </thead>\n  <tbody>\n    <tr>\n      <th>0</th>\n      <td>137739</td>\n      <td>Arriba Baked Winter Squash Mexican Style</td>\n      <td>55</td>\n      <td>11</td>\n      <td>North-American</td>\n      <td>7</td>\n      <td>Deanna</td>\n      <td>https://www.food.com/recipe/arriba-baked-winte...</td>\n    </tr>\n    <tr>\n      <th>1</th>\n      <td>31490</td>\n      <td>A Bit Different Breakfast Pizza</td>\n      <td>30</td>\n      <td>9</td>\n      <td>American</td>\n      <td>6</td>\n      <td>Brody</td>\n      <td>https://www.food.com/recipe/a-bit-different-br...</td>\n    </tr>\n    <tr>\n      <th>4</th>\n      <td>44061</td>\n      <td>Amish Tomato Ketchup For Canning</td>\n      <td>190</td>\n      <td>5</td>\n      <td>North-American</td>\n      <td>8</td>\n      <td>Hettie</td>\n      <td>https://www.food.com/recipe/amish-tomato-ketch...</td>\n    </tr>\n    <tr>\n      <th>5</th>\n      <td>5289</td>\n      <td>Apple A Day Milk Shake</td>\n      <td>0</td>\n      <td>4</td>\n      <td>American</td>\n      <td>4</td>\n      <td>Charlotte</td>\n      <td>https://www.food.com/recipe/apple-a-day-milk-s...</td>\n    </tr>\n    <tr>\n      <th>6</th>\n      <td>25274</td>\n      <td>Aww Marinated Olives</td>\n      <td>15</td>\n      <td>4</td>\n      <td>North-American</td>\n      <td>9</td>\n      <td>Luke</td>\n      <td>https://www.food.com/recipe/aww-marinated-oliv...</td>\n    </tr>\n    <tr>\n      <th>...</th>\n      <td>...</td>\n      <td>...</td>\n      <td>...</td>\n      <td>...</td>\n      <td>...</td>\n      <td>...</td>\n      <td>...</td>\n      <td>...</td>\n    </tr>\n    <tr>\n      <th>231626</th>\n      <td>61748</td>\n      <td>Zwiebelsuppe Clear German Onion Soup</td>\n      <td>35</td>\n      <td>10</td>\n      <td>European</td>\n      <td>11</td>\n      <td>Lilla</td>\n      <td>https://www.food.com/recipe/zwiebelsuppe-clear...</td>\n    </tr>\n    <tr>\n      <th>231627</th>\n      <td>410985</td>\n      <td>Zwiebelwhe Swiss Onion Tart</td>\n      <td>165</td>\n      <td>38</td>\n      <td>European</td>\n      <td>13</td>\n      <td>Susie</td>\n      <td>https://www.food.com/recipe/zwiebelwhe-swiss-o...</td>\n    </tr>\n    <tr>\n      <th>231630</th>\n      <td>357451</td>\n      <td>Zydeco Sauce</td>\n      <td>15</td>\n      <td>3</td>\n      <td>American</td>\n      <td>6</td>\n      <td>Sharae</td>\n      <td>https://www.food.com/recipe/zydeco-sauce-357451</td>\n    </tr>\n    <tr>\n      <th>231632</th>\n      <td>486161</td>\n      <td>Zydeco Soup</td>\n      <td>60</td>\n      <td>7</td>\n      <td>Southern-United-States</td>\n      <td>22</td>\n      <td>Casey</td>\n      <td>https://www.food.com/recipe/zydeco-soup-486161</td>\n    </tr>\n    <tr>\n      <th>231636</th>\n      <td>298509</td>\n      <td>Cookies By Design Sugar Shortbread Cookies</td>\n      <td>20</td>\n      <td>5</td>\n      <td>Comfort-Food</td>\n      <td>7</td>\n      <td>Indira</td>\n      <td>https://www.food.com/recipe/cookies-by-design-...</td>\n    </tr>\n  </tbody>\n</table>\n<p>106119 rows × 8 columns</p>\n</div>"
     },
     "metadata": {},
     "execution_count": 20
    }
   ],
   "source": [
    "recipe_table"
   ]
  },
  {
   "cell_type": "code",
   "execution_count": 21,
   "metadata": {},
   "outputs": [],
   "source": [
    "keyFile = open(\"APIkey.txt\", \"r\")\n",
    "key = keyFile.read()\n",
    "keyFile.close()"
   ]
  },
  {
   "cell_type": "code",
   "execution_count": 22,
   "metadata": {},
   "outputs": [],
   "source": [
    "from google_images_search import GoogleImagesSearch\n",
    "foodImage = GoogleImagesSearch(key, '017970115376021606908:q3caxr88ame')"
   ]
  },
  {
   "cell_type": "code",
   "execution_count": 24,
   "metadata": {},
   "outputs": [],
   "source": [
    "imageLinks = []\n",
    "recipe_names = recipe_table.recipeName.to_list()"
   ]
  },
  {
   "cell_type": "code",
   "execution_count": 23,
   "metadata": {
    "tags": []
   },
   "outputs": [
    {
     "output_type": "error",
     "ename": "NameError",
     "evalue": "name 'recipe_names' is not defined",
     "traceback": [
      "\u001b[0;31m---------------------------------------------------------------------------\u001b[0m",
      "\u001b[0;31mNameError\u001b[0m                                 Traceback (most recent call last)",
      "\u001b[0;32m<ipython-input-23-b15f08c3c5a8>\u001b[0m in \u001b[0;36m<module>\u001b[0;34m\u001b[0m\n\u001b[0;32m----> 1\u001b[0;31m \u001b[0;32mfor\u001b[0m \u001b[0mrecipe_name\u001b[0m \u001b[0;32min\u001b[0m \u001b[0mrecipe_names\u001b[0m\u001b[0;34m:\u001b[0m\u001b[0;34m\u001b[0m\u001b[0;34m\u001b[0m\u001b[0m\n\u001b[0m\u001b[1;32m      2\u001b[0m \u001b[0;34m\u001b[0m\u001b[0m\n\u001b[1;32m      3\u001b[0m     _searchParams = {\n\u001b[1;32m      4\u001b[0m         \u001b[0;34m'q'\u001b[0m\u001b[0;34m:\u001b[0m \u001b[0mrecipe_name\u001b[0m\u001b[0;34m,\u001b[0m\u001b[0;34m\u001b[0m\u001b[0;34m\u001b[0m\u001b[0m\n\u001b[1;32m      5\u001b[0m         \u001b[0;34m'num'\u001b[0m\u001b[0;34m:\u001b[0m \u001b[0;36m1\u001b[0m\u001b[0;34m,\u001b[0m\u001b[0;34m\u001b[0m\u001b[0;34m\u001b[0m\u001b[0m\n",
      "\u001b[0;31mNameError\u001b[0m: name 'recipe_names' is not defined"
     ]
    }
   ],
   "source": [
    "\n",
    "for recipe_name in recipe_names:\n",
    "\n",
    "    _searchParams = {\n",
    "        'q': recipe_name,\n",
    "        'num': 1,\n",
    "        'fileType': 'jpg|png'\n",
    "    }\n",
    "    try:\n",
    "        foodImage.search(search_params=_searchParams)\n",
    "\n",
    "        if foodImage.results():\n",
    "            imageLinks.append(foodImage.results()[0].url)\n",
    "        else:\n",
    "            imageLinks.append(None)\n",
    "    except:\n",
    "        imageLinks.append(None)\n"
   ]
  },
  {
   "cell_type": "code",
   "execution_count": 38,
   "metadata": {},
   "outputs": [
    {
     "output_type": "execute_result",
     "data": {
      "text/plain": "    recipeId                                  recipeName  cookTime  \\\n0     137739  arriba   baked winter squash mexican style        55   \n1      31490            a bit different  breakfast pizza        30   \n4      44061          amish  tomato ketchup  for canning       190   \n5       5289                     apple a day  milk shake         0   \n6      25274                       aww  marinated olives        15   \n7      67888              backyard style  barbecued ribs       120   \n11     42198               better than sex  strawberries      1460   \n12     67547             better then bush s  baked beans      2970   \n16     43026                              chile rellenos        45   \n18      8559                          chinese  chop suey        70   \n19     23850           cream  of cauliflower soup  vegan       110   \n20     76808                      cream  of spinach soup        45   \n25     48156            emotional balance  spice mixture        10   \n26     54272                 fool the meat eaters  chili        40   \n29     44123       george s at the cove  black bean soup        90   \n30     27087                 get the sensation  brownies        70   \n31     59952              global gourmet  taco casserole        55   \n40     90921  i stole the idea from mirj  sesame noodles        18   \n48     52804              jiffy  extra moist carrot cake        50   \n49    108414  jiffy  roasted corn and jalapeno cornbread        35   \n\n    difficulty              cuisine  servings authorName  \\\n0           11       north-american         7     Deanna   \n1            9             american         6      Brody   \n4            5  heirloom-historical         8     Hettie   \n5            4             american         4  Charlotte   \n6            4       north-american         9       Luke   \n7           10       north-american        22     Claire   \n11           8         comfort-food         7      Effie   \n12           9             american        13      Dasia   \n16           9             american         5      Anita   \n18           8             american         7    Roberta   \n19          10             american        16   Lorraine   \n20           9         comfort-food         8       Odis   \n25           2                asian         6     Kristy   \n26           9         comfort-food        12       Mona   \n29          11             american        18    Juanita   \n30          11         comfort-food         9    Georgie   \n31          11       north-american        12       Floy   \n40           8                asian         8      Tommy   \n48           8         comfort-food        11      Emily   \n49          10         comfort-food        10       Zula   \n\n                                     instructionsLink  \\\n0   https://www.food.com/recipe/arriba-baked-winte...   \n1   https://www.food.com/recipe/a-bit-different-br...   \n4   https://www.food.com/recipe/amish-tomato-ketch...   \n5   https://www.food.com/recipe/apple-a-day-milk-s...   \n6   https://www.food.com/recipe/aww-marinated-oliv...   \n7   https://www.food.com/recipe/backyard-style-bar...   \n11  https://www.food.com/recipe/better-than-sex-st...   \n12  https://www.food.com/recipe/better-then-bush-s...   \n16   https://www.food.com/recipe/chile-rellenos-43026   \n18  https://www.food.com/recipe/chinese-chop-suey-...   \n19  https://www.food.com/recipe/cream-of-cauliflow...   \n20  https://www.food.com/recipe/cream-of-spinach-s...   \n25  https://www.food.com/recipe/emotional-balance-...   \n26  https://www.food.com/recipe/fool-the-meat-eate...   \n29  https://www.food.com/recipe/george-s-at-the-co...   \n30  https://www.food.com/recipe/get-the-sensation-...   \n31  https://www.food.com/recipe/global-gourmet-tac...   \n40  https://www.food.com/recipe/i-stole-the-idea-f...   \n48  https://www.food.com/recipe/jiffy-extra-moist-...   \n49  https://www.food.com/recipe/jiffy-roasted-corn...   \n\n                                             imageUrl  \n0   https://img.sndimg.com/food/image/upload/c_thu...  \n1   https://img.sndimg.com/food/image/upload/c_thu...  \n4   https://growagoodlife.com/wp-content/uploads/2...  \n5   https://images.happycow.net/venues/1024/85/88/...  \n6   https://img.sndimg.com/food/image/upload/c_thu...  \n7   https://assets.wsimgs.com/wsimgs/ab/images/dp/...  \n11  https://pbs.twimg.com/profile_images/955857200...  \n12  https://img.sndimg.com/food/image/upload/c_thu...  \n16  https://www.isabeleats.com/wp-content/uploads/...  \n18  https://img.sndimg.com/food/image/upload/w_555...  \n19  https://lovingitvegan.com/wp-content/uploads/2...  \n20  https://img.sndimg.com/food/image/upload/c_thu...  \n25  https://www.mapi.com/ayurvedic-recipes/images/...  \n26  https://img.sndimg.com/food/image/upload/q_92,...  \n29  https://www.georgesatthecove.com/sites/default...  \n30  https://cms.qz.com/wp-content/uploads/2017/08/...  \n31  https://www.mesadevida.com/wp-content/uploads/...  \n40  https://img.sndimg.com/food/image/upload/c_thu...  \n48  https://img.sndimg.com/food/image/upload/c_thu...  \n49  https://img.sndimg.com/food/image/upload/c_thu...  ",
      "text/html": "<div>\n<style scoped>\n    .dataframe tbody tr th:only-of-type {\n        vertical-align: middle;\n    }\n\n    .dataframe tbody tr th {\n        vertical-align: top;\n    }\n\n    .dataframe thead th {\n        text-align: right;\n    }\n</style>\n<table border=\"1\" class=\"dataframe\">\n  <thead>\n    <tr style=\"text-align: right;\">\n      <th></th>\n      <th>recipeId</th>\n      <th>recipeName</th>\n      <th>cookTime</th>\n      <th>difficulty</th>\n      <th>cuisine</th>\n      <th>servings</th>\n      <th>authorName</th>\n      <th>instructionsLink</th>\n      <th>imageUrl</th>\n    </tr>\n  </thead>\n  <tbody>\n    <tr>\n      <th>0</th>\n      <td>137739</td>\n      <td>arriba   baked winter squash mexican style</td>\n      <td>55</td>\n      <td>11</td>\n      <td>north-american</td>\n      <td>7</td>\n      <td>Deanna</td>\n      <td>https://www.food.com/recipe/arriba-baked-winte...</td>\n      <td>https://img.sndimg.com/food/image/upload/c_thu...</td>\n    </tr>\n    <tr>\n      <th>1</th>\n      <td>31490</td>\n      <td>a bit different  breakfast pizza</td>\n      <td>30</td>\n      <td>9</td>\n      <td>american</td>\n      <td>6</td>\n      <td>Brody</td>\n      <td>https://www.food.com/recipe/a-bit-different-br...</td>\n      <td>https://img.sndimg.com/food/image/upload/c_thu...</td>\n    </tr>\n    <tr>\n      <th>4</th>\n      <td>44061</td>\n      <td>amish  tomato ketchup  for canning</td>\n      <td>190</td>\n      <td>5</td>\n      <td>heirloom-historical</td>\n      <td>8</td>\n      <td>Hettie</td>\n      <td>https://www.food.com/recipe/amish-tomato-ketch...</td>\n      <td>https://growagoodlife.com/wp-content/uploads/2...</td>\n    </tr>\n    <tr>\n      <th>5</th>\n      <td>5289</td>\n      <td>apple a day  milk shake</td>\n      <td>0</td>\n      <td>4</td>\n      <td>american</td>\n      <td>4</td>\n      <td>Charlotte</td>\n      <td>https://www.food.com/recipe/apple-a-day-milk-s...</td>\n      <td>https://images.happycow.net/venues/1024/85/88/...</td>\n    </tr>\n    <tr>\n      <th>6</th>\n      <td>25274</td>\n      <td>aww  marinated olives</td>\n      <td>15</td>\n      <td>4</td>\n      <td>north-american</td>\n      <td>9</td>\n      <td>Luke</td>\n      <td>https://www.food.com/recipe/aww-marinated-oliv...</td>\n      <td>https://img.sndimg.com/food/image/upload/c_thu...</td>\n    </tr>\n    <tr>\n      <th>7</th>\n      <td>67888</td>\n      <td>backyard style  barbecued ribs</td>\n      <td>120</td>\n      <td>10</td>\n      <td>north-american</td>\n      <td>22</td>\n      <td>Claire</td>\n      <td>https://www.food.com/recipe/backyard-style-bar...</td>\n      <td>https://assets.wsimgs.com/wsimgs/ab/images/dp/...</td>\n    </tr>\n    <tr>\n      <th>11</th>\n      <td>42198</td>\n      <td>better than sex  strawberries</td>\n      <td>1460</td>\n      <td>8</td>\n      <td>comfort-food</td>\n      <td>7</td>\n      <td>Effie</td>\n      <td>https://www.food.com/recipe/better-than-sex-st...</td>\n      <td>https://pbs.twimg.com/profile_images/955857200...</td>\n    </tr>\n    <tr>\n      <th>12</th>\n      <td>67547</td>\n      <td>better then bush s  baked beans</td>\n      <td>2970</td>\n      <td>9</td>\n      <td>american</td>\n      <td>13</td>\n      <td>Dasia</td>\n      <td>https://www.food.com/recipe/better-then-bush-s...</td>\n      <td>https://img.sndimg.com/food/image/upload/c_thu...</td>\n    </tr>\n    <tr>\n      <th>16</th>\n      <td>43026</td>\n      <td>chile rellenos</td>\n      <td>45</td>\n      <td>9</td>\n      <td>american</td>\n      <td>5</td>\n      <td>Anita</td>\n      <td>https://www.food.com/recipe/chile-rellenos-43026</td>\n      <td>https://www.isabeleats.com/wp-content/uploads/...</td>\n    </tr>\n    <tr>\n      <th>18</th>\n      <td>8559</td>\n      <td>chinese  chop suey</td>\n      <td>70</td>\n      <td>8</td>\n      <td>american</td>\n      <td>7</td>\n      <td>Roberta</td>\n      <td>https://www.food.com/recipe/chinese-chop-suey-...</td>\n      <td>https://img.sndimg.com/food/image/upload/w_555...</td>\n    </tr>\n    <tr>\n      <th>19</th>\n      <td>23850</td>\n      <td>cream  of cauliflower soup  vegan</td>\n      <td>110</td>\n      <td>10</td>\n      <td>american</td>\n      <td>16</td>\n      <td>Lorraine</td>\n      <td>https://www.food.com/recipe/cream-of-cauliflow...</td>\n      <td>https://lovingitvegan.com/wp-content/uploads/2...</td>\n    </tr>\n    <tr>\n      <th>20</th>\n      <td>76808</td>\n      <td>cream  of spinach soup</td>\n      <td>45</td>\n      <td>9</td>\n      <td>comfort-food</td>\n      <td>8</td>\n      <td>Odis</td>\n      <td>https://www.food.com/recipe/cream-of-spinach-s...</td>\n      <td>https://img.sndimg.com/food/image/upload/c_thu...</td>\n    </tr>\n    <tr>\n      <th>25</th>\n      <td>48156</td>\n      <td>emotional balance  spice mixture</td>\n      <td>10</td>\n      <td>2</td>\n      <td>asian</td>\n      <td>6</td>\n      <td>Kristy</td>\n      <td>https://www.food.com/recipe/emotional-balance-...</td>\n      <td>https://www.mapi.com/ayurvedic-recipes/images/...</td>\n    </tr>\n    <tr>\n      <th>26</th>\n      <td>54272</td>\n      <td>fool the meat eaters  chili</td>\n      <td>40</td>\n      <td>9</td>\n      <td>comfort-food</td>\n      <td>12</td>\n      <td>Mona</td>\n      <td>https://www.food.com/recipe/fool-the-meat-eate...</td>\n      <td>https://img.sndimg.com/food/image/upload/q_92,...</td>\n    </tr>\n    <tr>\n      <th>29</th>\n      <td>44123</td>\n      <td>george s at the cove  black bean soup</td>\n      <td>90</td>\n      <td>11</td>\n      <td>american</td>\n      <td>18</td>\n      <td>Juanita</td>\n      <td>https://www.food.com/recipe/george-s-at-the-co...</td>\n      <td>https://www.georgesatthecove.com/sites/default...</td>\n    </tr>\n    <tr>\n      <th>30</th>\n      <td>27087</td>\n      <td>get the sensation  brownies</td>\n      <td>70</td>\n      <td>11</td>\n      <td>comfort-food</td>\n      <td>9</td>\n      <td>Georgie</td>\n      <td>https://www.food.com/recipe/get-the-sensation-...</td>\n      <td>https://cms.qz.com/wp-content/uploads/2017/08/...</td>\n    </tr>\n    <tr>\n      <th>31</th>\n      <td>59952</td>\n      <td>global gourmet  taco casserole</td>\n      <td>55</td>\n      <td>11</td>\n      <td>north-american</td>\n      <td>12</td>\n      <td>Floy</td>\n      <td>https://www.food.com/recipe/global-gourmet-tac...</td>\n      <td>https://www.mesadevida.com/wp-content/uploads/...</td>\n    </tr>\n    <tr>\n      <th>40</th>\n      <td>90921</td>\n      <td>i stole the idea from mirj  sesame noodles</td>\n      <td>18</td>\n      <td>8</td>\n      <td>asian</td>\n      <td>8</td>\n      <td>Tommy</td>\n      <td>https://www.food.com/recipe/i-stole-the-idea-f...</td>\n      <td>https://img.sndimg.com/food/image/upload/c_thu...</td>\n    </tr>\n    <tr>\n      <th>48</th>\n      <td>52804</td>\n      <td>jiffy  extra moist carrot cake</td>\n      <td>50</td>\n      <td>8</td>\n      <td>comfort-food</td>\n      <td>11</td>\n      <td>Emily</td>\n      <td>https://www.food.com/recipe/jiffy-extra-moist-...</td>\n      <td>https://img.sndimg.com/food/image/upload/c_thu...</td>\n    </tr>\n    <tr>\n      <th>49</th>\n      <td>108414</td>\n      <td>jiffy  roasted corn and jalapeno cornbread</td>\n      <td>35</td>\n      <td>10</td>\n      <td>comfort-food</td>\n      <td>10</td>\n      <td>Zula</td>\n      <td>https://www.food.com/recipe/jiffy-roasted-corn...</td>\n      <td>https://img.sndimg.com/food/image/upload/c_thu...</td>\n    </tr>\n  </tbody>\n</table>\n</div>"
     },
     "metadata": {},
     "execution_count": 38
    }
   ],
   "source": [
    "recipe_table['imageUrl'] = imageLinks\n",
    "recipe_table = recipe_table.dropna()"
   ]
  },
  {
   "cell_type": "markdown",
   "metadata": {
    "tags": []
   },
   "source": [
    "**Run in the shell** \n",
    "\n",
    "./cloud_sql_proxy -instances=cs348s2020:us-central1:cs348-1=tcp:3306"
   ]
  },
  {
   "cell_type": "code",
   "execution_count": 34,
   "metadata": {},
   "outputs": [],
   "source": [
    "mySql_config = {\n",
    "    \"pool_size\": 5,\n",
    "    \"max_overflow\": 2,\n",
    "    \"pool_timeout\": 30,\n",
    "    \"pool_recycle\": 1800,\n",
    "}\n",
    "mySql_engine = sqlalchemy.create_engine(\n",
    "                sqlalchemy.engine.url.URL(\n",
    "                    drivername=\"mysql+pymysql\",\n",
    "                    username='root',\n",
    "                    password='cs348',\n",
    "                    host='127.0.0.1',\n",
    "                    port='3306',\n",
    "                    database='db_1',\n",
    "                ),\n",
    "                **mySql_config\n",
    "            )"
   ]
  },
  {
   "cell_type": "code",
   "execution_count": 35,
   "metadata": {
    "tags": []
   },
   "outputs": [
    {
     "output_type": "stream",
     "name": "stdout",
     "text": "Tables created successfully\n"
    }
   ],
   "source": [
    "from sqlalchemy.types import Integer\n",
    "from sqlalchemy.types import String\n",
    "\n",
    "mySql_connection = mySql_engine.connect()\n",
    "try:\n",
    "    recipe_frame = recipe_table.to_sql('recipe', mySql_connection, if_exists='replace', \n",
    "                        index=False, chunksize=50, \n",
    "                        dtype={'recipeId': Integer(), 'recipeName': String(60), 'cookTime': Integer(), \n",
    "                                'difficulty': Integer(), 'cuisine': String(40), 'servings': Integer(),      \n",
    "                                'authorName': String(40), 'instructionsLink': String(225), 'imageUrl': String(225)})\n",
    "\n",
    "    ingredient_frame = ingredient_table.to_sql('ingredient', mySql_connection, if_exists='replace',\n",
    "                        index=False, chunksize=50,\n",
    "                        dtype={'recipeId': Integer(), 'foodName': String(255), 'qantity': Integer(), \n",
    "                                'unit': String(20)})\n",
    "\n",
    "    tag_frame = tag_table.to_sql('tags', mySql_connection, if_exists='replace',\n",
    "                        index=False, chunksize=50,\n",
    "                        dtype={'recipeId': String(24), 'tagName': String(40)})\n",
    "\n",
    "except ValueError as vx:\n",
    "    print(vx)\n",
    "\n",
    "except Exception as ex:   \n",
    "    print(ex)\n",
    "\n",
    "else:\n",
    "    print(\"Tables created successfully\");   \n",
    "\n",
    "finally:\n",
    "    mySql_connection.close()"
   ]
  },
  {
   "cell_type": "code",
   "execution_count": null,
   "metadata": {},
   "outputs": [],
   "source": []
  }
 ],
 "metadata": {
  "language_info": {
   "codemirror_mode": {
    "name": "ipython",
    "version": 3
   },
   "file_extension": ".py",
   "mimetype": "text/x-python",
   "name": "python",
   "nbconvert_exporter": "python",
   "pygments_lexer": "ipython3",
   "version": "3.7.6-final"
  },
  "orig_nbformat": 2,
  "kernelspec": {
   "name": "python3",
   "display_name": "Python 3"
  }
 },
 "nbformat": 4,
 "nbformat_minor": 2
}